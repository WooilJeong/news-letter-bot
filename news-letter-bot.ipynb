{
 "cells": [
  {
   "cell_type": "markdown",
   "metadata": {},
   "source": [
    "> # news-letter-bot"
   ]
  },
  {
   "cell_type": "code",
   "execution_count": 1,
   "metadata": {
    "ExecuteTime": {
     "end_time": "2021-07-04T00:57:11.522970Z",
     "start_time": "2021-07-04T00:57:10.915427Z"
    }
   },
   "outputs": [],
   "source": [
    "import smtplib\n",
    "from email.mime.text import MIMEText\n",
    "from email.mime.multipart import MIMEMultipart\n",
    "from email.mime.base import MIMEBase\n",
    "from email import encoders\n",
    "import requests\n",
    "from bs4 import BeautifulSoup\n",
    "import pandas as pd\n",
    "import datetime\n",
    "from dateutil.relativedelta import relativedelta\n",
    "import configparser\n",
    "from pretty_html_table import build_table"
   ]
  },
  {
   "cell_type": "markdown",
   "metadata": {},
   "source": [
    "## Class & Function"
   ]
  },
  {
   "cell_type": "code",
   "execution_count": 2,
   "metadata": {
    "ExecuteTime": {
     "end_time": "2021-07-04T00:57:12.310105Z",
     "start_time": "2021-07-04T00:57:12.288629Z"
    }
   },
   "outputs": [],
   "source": [
    "class PyMail:\n",
    "    \n",
    "    def __init__(self, my_email_id, my_email_pw, smtp_host, smtp_port):\n",
    "        # 계정 정보 초기화\n",
    "        self.my_email_id = my_email_id\n",
    "        self.my_email_pw = my_email_pw\n",
    "        \n",
    "        # 세션 정의\n",
    "        self.session = smtplib.SMTP(smtp_host, smtp_port)\n",
    "        \n",
    "        print(f\">>> PyMail 초기화 성공\")\n",
    "    \n",
    "    def send_mail(self, target_email_id, title, contents, subtype=False, attachment_path=False):\n",
    "        \n",
    "        # 세션 보안 TLS 시작\n",
    "        self.session.starttls()\n",
    "        \n",
    "        # 세션 계정 로그인\n",
    "        self.session.login(self.my_email_id, self.my_email_pw)\n",
    "        \n",
    "        # 제목, 본문 작성\n",
    "        msg = MIMEMultipart()\n",
    "        msg['Subject'] = title\n",
    "        if subtype == False:\n",
    "            msg.attach(MIMEText(contents, 'plain'))\n",
    "        else:\n",
    "            msg.attach(MIMEText(contents, subtype))\n",
    "\n",
    "        # 파일첨부 (파일 미첨부시 생략가능)\n",
    "        if attachment_path:\n",
    "            fileName = attachment_path.split(\"/\")[-1]\n",
    "            attachment = open(attachment_path, 'rb')\n",
    "            part = MIMEBase('application', 'octet-stream')\n",
    "            part.set_payload((attachment).read())\n",
    "            encoders.encode_base64(part)\n",
    "            part.add_header('Content-Disposition', \"attachment; filename= \" + fileName)\n",
    "            msg.attach(part)\n",
    "        \n",
    "        # 메일 전송\n",
    "        try:\n",
    "            self.session.sendmail(my_email_id, target_email_id, msg.as_string())\n",
    "            self.session.quit()\n",
    "            print(f\">>> 메일 발송 성공\")\n",
    "        except:\n",
    "            self.session.quit()\n",
    "            print(f\">>> 메일 발송 실패\")"
   ]
  },
  {
   "cell_type": "code",
   "execution_count": 3,
   "metadata": {
    "ExecuteTime": {
     "end_time": "2021-07-04T00:57:12.565837Z",
     "start_time": "2021-07-04T00:57:12.550576Z"
    }
   },
   "outputs": [],
   "source": [
    "def df_to_html_table(df, index=False):\n",
    "    return build_table(df, 'blue_light')\n",
    "\n",
    "def make_contents(search_word_list, sort):\n",
    "    df = pd.DataFrame()\n",
    "    for search_word in search_word_list:\n",
    "\n",
    "        # 해당 url의 html문서를 soup 객체로 저장\n",
    "        url = f'https://m.search.naver.com/search.naver?where=m_news&sm=mtb_jum&query={search_word}&sort={sort}'\n",
    "\n",
    "        req = requests.get(url)\n",
    "        html = req.text\n",
    "        soup = BeautifulSoup(html, 'html.parser')\n",
    "\n",
    "        search_result = soup.select_one('#news_result_list')\n",
    "        news_links = search_result.select('.bx > .news_wrap > a')\n",
    "        times = search_result.select(\"#news_result_list > li > div > div.news_info > div.info_group > span:nth-child(2)\")\n",
    "        source = search_result.select(\"#news_result_list > li > div.news_wrap > div.news_info > div.info_group > a\")\n",
    "\n",
    "        title_list = list(map(lambda x: x.text, news_links))\n",
    "        link_list = list(map(lambda x: x.attrs['href'], news_links))\n",
    "        times_list = list(map(lambda x: x.text, times))\n",
    "        source_list = list(map(lambda x: x.text, source))\n",
    "        source_link_list = list(map(lambda x: x.attrs['href'], source))\n",
    "\n",
    "        tmp = pd.DataFrame({\"Title\": title_list, \"Times\": times_list, \"Source\": source_list, \"Link\": link_list, \"SourceLink\": source_link_list})\n",
    "        tmp['Keyword'] = search_word\n",
    "\n",
    "        df = df.append(tmp.head(3))\n",
    "\n",
    "    df = df[['Keyword', 'Title', 'Times', 'Source', 'Link', 'SourceLink']]\n",
    "    df.index = range(len(df))\n",
    "    \n",
    "    return df\n",
    "\n",
    "def preprocessing(df):\n",
    "    new_title_list = []\n",
    "    new_source_list = []\n",
    "    for idx, row in df.iterrows():\n",
    "        title = row['Title']\n",
    "        link = row['Link']\n",
    "\n",
    "        source = row['Source']\n",
    "        source_link = row['SourceLink']\n",
    "\n",
    "        new_title = f\"\"\"<a href=\"{link}\">{title}</a>\"\"\"\n",
    "        new_source = f\"\"\"<a href=\"{source_link}\">{source}</a>\"\"\"\n",
    "\n",
    "        new_title_list.append(new_title)\n",
    "        new_source_list.append(new_source)\n",
    "\n",
    "    df['Title_Link'] = new_title_list\n",
    "    df['Source_Link'] = new_source_list\n",
    "\n",
    "    # 시점 계산\n",
    "    now = datetime.datetime.now()\n",
    "    df.loc[df['Times'].str.contains(\"일 전\"), 'Times_'] = df.loc[df['Times'].str.contains(\"일 전\")]['Times'].apply(lambda x: now-relativedelta(days=int(x.split(\"일\")[0])))\n",
    "    df.loc[df['Times'].str.contains(\"시간 전\"), 'Times_'] = df.loc[df['Times'].str.contains(\"시간 전\")]['Times'].apply(lambda x: now-relativedelta(hours=int(x.split(\"시간\")[0])))\n",
    "    df.loc[df['Times'].str.contains(\"분 전\"), 'Times_'] = df.loc[df['Times'].str.contains(\"분 전\")]['Times'].apply(lambda x: now-relativedelta(minutes=int(x.split(\"분\")[0])))\n",
    "    df.loc[df['Times'].str.contains(\"\\.\"), 'Times_'] = df.loc[df['Times'].str.contains(\"\\.\")]['Times'].apply(lambda x: datetime.datetime.strptime(x, \"%Y.%m.%d.\"))\n",
    "    df['Times_'] = pd.to_datetime(df['Times_']).apply(lambda x: datetime.datetime.strftime(x, \"%Y-%m-%d\"))\n",
    "\n",
    "    # 결과\n",
    "    df_cls = df[['Keyword','Title_Link','Times_','Source_Link']]\n",
    "    colDict = {\"Keyword\": \"주제\",\n",
    "               \"Title_Link\": \"제목\",\n",
    "               \"Times_\": \"날짜\",\n",
    "               \"Source_Link\": \"채널\"}\n",
    "    df_cls = df_cls.rename(columns=colDict)\n",
    "    return df_cls"
   ]
  },
  {
   "cell_type": "code",
   "execution_count": 11,
   "metadata": {
    "ExecuteTime": {
     "end_time": "2021-07-04T01:01:20.461000Z",
     "start_time": "2021-07-04T01:01:20.450498Z"
    }
   },
   "outputs": [],
   "source": [
    "def merge_with_html_template(contents, sort):\n",
    "    \"\"\"\n",
    "    HTML 뉴스레터 템플릿 적용\n",
    "    \"\"\"\n",
    "    \n",
    "    sort_dict = {0: \"관련도순\", 1: \"최신순\", 2: \"오래된순\"}\n",
    "    \n",
    "    \n",
    "    html = f\"\"\"\n",
    "    \n",
    "<div style=\"width:100%\">\n",
    "\n",
    "    <div style=\"max-width:600px;margin:0 auto;padding:60px 0 30px 0;font-family:'Roboto',Arial,Helvetica,sans-serif;font-size:16px;line-height:1.5;border:1px solid #e2e2e2\">\n",
    "  \n",
    "      <div align=\"center\" style=\"padding-right:0px;padding-left:0px\" class=\"logo-area\">\n",
    "        <div style=\"font-size:1px;line-height:20px\">&nbsp;</div><a href=\"https://wooiljeong.github.io\" style=\"outline:none\" target=\"_blank\"> <img align=\"center\" border=\"0\" src=\"https://avatars.githubusercontent.com/u/38076110?v=4\" alt=\"Logo\" title=\"Logo\" style=\"text-decoration-line: none; height: auto; border: none; width: 100%; max-width: 143px; display: block;\" width=\"143\"></a>\n",
    "        <div style=\"font-size:1px;line-height:20px\">&nbsp;</div>\n",
    "      </div>\n",
    "  \n",
    "      <hr style=\"border:0;border-top:solid 1px #e2e2e2;width:90%;margin:30px auto\" class=\"horizontal-line\">\n",
    "  \n",
    "      <div style=\"max-width:90%;margin-left:auto;margin-right:auto;margin-top:40px\" class=\"nomal-paragraph\">\n",
    "  \n",
    "        <div style=\"margin-top:20px\">\n",
    "          안녕하세요. 키워드 뉴스레터 템플릿 입니다.\n",
    "        </div>\n",
    "  \n",
    "      </div>\n",
    "  \n",
    "      <div style=\"max-width:90%;margin-left:auto;margin-right:auto;margin-top:20px\" class=\"bullet-point\">\n",
    "        <ul>\n",
    "          <li>조회기준: {sort_dict[sort]}</li>\n",
    "        </ul>\n",
    "      </div>\n",
    "  \n",
    "      <div style=\"max-width:90%;margin-left:auto;margin-right:auto;margin-top:20px\" class=\"bullet-point\">\n",
    "        <ol>\n",
    "          <!-- <li>순서 리스트</li> -->\n",
    "        </ol>\n",
    "      </div>\n",
    "      \n",
    "      <!-- 메인 이미지 넣기 -->\n",
    "      <div align=\"center\" style=\"padding-right:0px;padding-left:0px;margin-top:40px\" class=\"full-image\">\n",
    "        <!-- <img align=\"center\" border=\"0\" src=\"https://steemitimages.com/640x0/https://cdn.steemitimages.com/DQmdZZLcyLv6Z1BXQ7mfarYq5a2MnAhimaJfCq2KAxYoSKT/main.png\" alt=\"Image\" title=\"Image\" style=\"border: 0px; height: auto; width: 100%; display: block;\"> -->\n",
    "      </div>\n",
    "  \n",
    "      <div style=\"max-width:90%;margin-left:auto;margin-right:auto;margin-top:40px\" class=\"nomal-paragraph\">\n",
    "  \n",
    "        <div style=\"margin-top:20px\">\n",
    "          {contents}\n",
    "        </div>\n",
    "  \n",
    "      </div>\n",
    "  \n",
    "      <div align=\"center\" style=\"padding-top:40px;padding-right:10px;padding-bottom:10px;padding-left:10px\">\n",
    "        <a href=\"#\" style=\"text-decoration-line: none; display: inline-block; color: rgb(255, 255, 255); background-color: rgb(0, 0, 0); border-radius: 60px; width: auto; border-width: 1px; border-style: solid; border-color: rgb(0, 0, 0); padding: 10px 25px;\" target=\"_blank\">더 보기</a>\n",
    "      </div>\n",
    "  \n",
    "      <div style=\"text-align:center;\">\n",
    "        <a style=\"font-size:12px;color:silver\" href=\"mailto:mcwooil2@gmail.com?subject=Unsubscribe!&amp;body=I&nbsp;don't&nbsp;want&nbsp;to&nbsp;receive&nbsp;an&nbsp;email&nbsp;from&nbsp;your&nbsp;service!\" target=\"_blank\">Unsubscribe from emails</a>\n",
    "      </div>\n",
    "  \n",
    "    </div>\n",
    "  </div>\n",
    "    \n",
    "    \"\"\"\n",
    "    \n",
    "    return html"
   ]
  },
  {
   "cell_type": "code",
   "execution_count": 12,
   "metadata": {
    "ExecuteTime": {
     "end_time": "2021-07-04T01:01:20.852580Z",
     "start_time": "2021-07-04T01:01:20.837825Z"
    }
   },
   "outputs": [],
   "source": [
    "def make_final_contents(search_word_list, sort=1):\n",
    "    \"\"\"\n",
    "    컨텐츠 만들기\n",
    "    sort: 정렬 기준 - 0: 관련도순, 1: 최신순, 2: 오래된순\n",
    "    \"\"\"\n",
    "    # 컨텐츠 생성\n",
    "    df = make_contents(search_word_list, sort)\n",
    "    # 전처리\n",
    "    df_cls = preprocessing(df)\n",
    "    # HTML로 변환하기\n",
    "    html = df_to_html_table(df_cls)\n",
    "    # HTML Contents\n",
    "    contents_ = html.replace(\"&lt;\",\"<\").replace(\"&gt;\",\">\")\n",
    "    # 뉴스레터 HTML 템플릿 적용\n",
    "    contents = merge_with_html_template(contents_, sort)\n",
    "    return contents"
   ]
  },
  {
   "cell_type": "markdown",
   "metadata": {},
   "source": [
    "## Make Contents"
   ]
  },
  {
   "cell_type": "code",
   "execution_count": 19,
   "metadata": {
    "ExecuteTime": {
     "end_time": "2021-07-04T01:02:49.945816Z",
     "start_time": "2021-07-04T01:02:48.246692Z"
    }
   },
   "outputs": [],
   "source": [
    "# 검색 키워드\n",
    "search_word_list = ['네이버','카카오','라인','쿠팡','배달의민족']\n",
    "\n",
    "# 컨텐츠 생성\n",
    "contents = make_final_contents(search_word_list, sort=0)"
   ]
  },
  {
   "cell_type": "markdown",
   "metadata": {},
   "source": [
    "## Setting\n",
    "\n",
    "- `./config.ini`\n",
    "```ini\n",
    "[gmail]\n",
    "id=G메일 주소\n",
    "pw=G메일 앱 비밀번호\n",
    "[target]\n",
    "id=받는 사람 메일 주소\n",
    "```"
   ]
  },
  {
   "cell_type": "code",
   "execution_count": 20,
   "metadata": {
    "ExecuteTime": {
     "end_time": "2021-07-04T01:02:50.127137Z",
     "start_time": "2021-07-04T01:02:50.114133Z"
    }
   },
   "outputs": [],
   "source": [
    "# 설정 파일 경로\n",
    "config_path = \"./config.ini\"\n",
    "\n",
    "# 설정 파일 읽기\n",
    "config = configparser.ConfigParser()\n",
    "config.read(config_path)\n",
    "\n",
    "# 이메일 계정 정보\n",
    "my_email_id = config['gmail']['id']\n",
    "my_email_pw = config['gmail']['pw']\n",
    "\n",
    "# SMTP 호스트 명\n",
    "smtp_host = 'smtp.gmail.com'\n",
    "smtp_port = 587\n",
    "\n",
    "# 타이틀 및 컨텐츠 작성\n",
    "date_str = datetime.datetime.strftime(datetime.datetime.now(),'%Y년 %m월 %d일')\n",
    "title = f\"\"\"📢 정우일 키워드 뉴스레터 ({date_str})\"\"\"\n",
    "contents=f'''{contents}'''\n",
    "\n",
    "# # 첨부파일 경로 설정\n",
    "# attachment_path = f\"D:/Task.txt\"\n",
    "\n",
    "# 수신자 정보 설정\n",
    "target_email_id = config['target']['id']\n",
    "\n",
    "# 문서 타입 설정 - plain, html 등\n",
    "subtype = 'html'"
   ]
  },
  {
   "cell_type": "markdown",
   "metadata": {},
   "source": [
    "## Sending"
   ]
  },
  {
   "cell_type": "code",
   "execution_count": 21,
   "metadata": {
    "ExecuteTime": {
     "end_time": "2021-07-04T01:02:52.941243Z",
     "start_time": "2021-07-04T01:02:50.297859Z"
    }
   },
   "outputs": [
    {
     "name": "stdout",
     "output_type": "stream",
     "text": [
      ">>> PyMail 초기화 성공\n",
      ">>> 메일 발송 성공\n"
     ]
    }
   ],
   "source": [
    "# 세션 설정\n",
    "PM = PyMail(my_email_id, my_email_pw, smtp_host, smtp_port)\n",
    "# 메일 발송\n",
    "# PM.send_mail(target_email_id, title, contents, subtype, attachment_path)\n",
    "PM.send_mail(target_email_id, title, contents, subtype)"
   ]
  }
 ],
 "metadata": {
  "hide_input": false,
  "kernelspec": {
   "display_name": "Python 3",
   "language": "python",
   "name": "python3"
  },
  "language_info": {
   "codemirror_mode": {
    "name": "ipython",
    "version": 3
   },
   "file_extension": ".py",
   "mimetype": "text/x-python",
   "name": "python",
   "nbconvert_exporter": "python",
   "pygments_lexer": "ipython3",
   "version": "3.8.5"
  },
  "toc": {
   "base_numbering": 1,
   "nav_menu": {},
   "number_sections": true,
   "sideBar": true,
   "skip_h1_title": false,
   "title_cell": "Table of Contents",
   "title_sidebar": "Contents",
   "toc_cell": false,
   "toc_position": {},
   "toc_section_display": true,
   "toc_window_display": false
  },
  "varInspector": {
   "cols": {
    "lenName": 16,
    "lenType": 16,
    "lenVar": 40
   },
   "kernels_config": {
    "python": {
     "delete_cmd_postfix": "",
     "delete_cmd_prefix": "del ",
     "library": "var_list.py",
     "varRefreshCmd": "print(var_dic_list())"
    },
    "r": {
     "delete_cmd_postfix": ") ",
     "delete_cmd_prefix": "rm(",
     "library": "var_list.r",
     "varRefreshCmd": "cat(var_dic_list()) "
    }
   },
   "types_to_exclude": [
    "module",
    "function",
    "builtin_function_or_method",
    "instance",
    "_Feature"
   ],
   "window_display": false
  }
 },
 "nbformat": 4,
 "nbformat_minor": 4
}
