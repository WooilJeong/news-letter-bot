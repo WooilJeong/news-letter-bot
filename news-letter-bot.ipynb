{
 "cells": [
  {
   "cell_type": "markdown",
   "metadata": {},
   "source": [
    "> # news-letter-bot"
   ]
  },
  {
   "cell_type": "code",
   "execution_count": 1,
   "metadata": {
    "ExecuteTime": {
     "end_time": "2021-06-01T13:54:57.909659Z",
     "start_time": "2021-06-01T13:54:57.189442Z"
    }
   },
   "outputs": [],
   "source": [
    "import smtplib\n",
    "from email.mime.text import MIMEText\n",
    "from email.mime.multipart import MIMEMultipart\n",
    "from email.mime.base import MIMEBase\n",
    "from email import encoders\n",
    "import requests\n",
    "from bs4 import BeautifulSoup\n",
    "import pandas as pd\n",
    "import datetime\n",
    "from dateutil.relativedelta import relativedelta\n",
    "import configparser\n",
    "from pretty_html_table import build_table\n"
   ]
  },
  {
   "cell_type": "markdown",
   "metadata": {},
   "source": [
    "## Class & Function"
   ]
  },
  {
   "cell_type": "code",
   "execution_count": 2,
   "metadata": {
    "ExecuteTime": {
     "end_time": "2021-06-01T13:54:57.924668Z",
     "start_time": "2021-06-01T13:54:57.911667Z"
    }
   },
   "outputs": [],
   "source": [
    "class PyMail:\n",
    "    \n",
    "    def __init__(self, my_email_id, my_email_pw, smtp_host, smtp_port):\n",
    "        # 계정 정보 초기화\n",
    "        self.my_email_id = my_email_id\n",
    "        self.my_email_pw = my_email_pw\n",
    "        \n",
    "        # 세션 정의\n",
    "        self.session = smtplib.SMTP(smtp_host, smtp_port)\n",
    "        \n",
    "        print(f\">>> PyMail 초기화 성공\")\n",
    "    \n",
    "    def send_mail(self, target_email_id, title, contents, subtype=False, attachment_path=False):\n",
    "        \n",
    "        # 세션 보안 TLS 시작\n",
    "        self.session.starttls()\n",
    "        \n",
    "        # 세션 계정 로그인\n",
    "        self.session.login(self.my_email_id, self.my_email_pw)\n",
    "        \n",
    "        # 제목, 본문 작성\n",
    "        msg = MIMEMultipart()\n",
    "        msg['Subject'] = title\n",
    "        if subtype == False:\n",
    "            msg.attach(MIMEText(contents, 'plain'))\n",
    "        else:\n",
    "            msg.attach(MIMEText(contents, subtype))\n",
    "\n",
    "        # 파일첨부 (파일 미첨부시 생략가능)\n",
    "        if attachment_path:\n",
    "            fileName = attachment_path.split(\"/\")[-1]\n",
    "            attachment = open(attachment_path, 'rb')\n",
    "            part = MIMEBase('application', 'octet-stream')\n",
    "            part.set_payload((attachment).read())\n",
    "            encoders.encode_base64(part)\n",
    "            part.add_header('Content-Disposition', \"attachment; filename= \" + fileName)\n",
    "            msg.attach(part)\n",
    "        \n",
    "        # 메일 전송\n",
    "        try:\n",
    "            self.session.sendmail(my_email_id, target_email_id, msg.as_string())\n",
    "            self.session.quit()\n",
    "            print(f\">>> 메일 발송 성공\")\n",
    "        except:\n",
    "            self.session.quit()\n",
    "            print(f\">>> 메일 발송 실패\")"
   ]
  },
  {
   "cell_type": "code",
   "execution_count": 3,
   "metadata": {
    "ExecuteTime": {
     "end_time": "2021-06-01T13:54:57.955064Z",
     "start_time": "2021-06-01T13:54:57.927002Z"
    }
   },
   "outputs": [],
   "source": [
    "def df_to_html_table(df):\n",
    "    return build_table(df, 'blue_light')\n",
    "\n",
    "def make_contents(search_word_list, sort):\n",
    "    df = pd.DataFrame()\n",
    "    for search_word in search_word_list:\n",
    "\n",
    "        # 해당 url의 html문서를 soup 객체로 저장\n",
    "        url = f'https://m.search.naver.com/search.naver?where=m_news&sm=mtb_jum&query={search_word}&sort={sort}'\n",
    "\n",
    "        req = requests.get(url)\n",
    "        html = req.text\n",
    "        soup = BeautifulSoup(html, 'html.parser')\n",
    "\n",
    "        search_result = soup.select_one('#news_result_list')\n",
    "        news_links = search_result.select('.bx > .news_wrap > a')\n",
    "        times = search_result.select(\"#news_result_list > li > div > div.news_info > div.info_group > span:nth-child(2)\")\n",
    "        source = search_result.select(\"#news_result_list > li > div.news_wrap > div.news_info > div.info_group > a\")\n",
    "\n",
    "        title_list = list(map(lambda x: x.text, news_links))\n",
    "        link_list = list(map(lambda x: x.attrs['href'], news_links))\n",
    "        times_list = list(map(lambda x: x.text, times))\n",
    "        source_list = list(map(lambda x: x.text, source))\n",
    "        source_link_list = list(map(lambda x: x.attrs['href'], source))\n",
    "\n",
    "        tmp = pd.DataFrame({\"Title\": title_list, \"Times\": times_list, \"Source\": source_list, \"Link\": link_list, \"SourceLink\": source_link_list})\n",
    "        tmp['Keyword'] = search_word\n",
    "\n",
    "        df = df.append(tmp.head(3))\n",
    "\n",
    "    df = df[['Keyword', 'Title', 'Times', 'Source', 'Link', 'SourceLink']]\n",
    "    df.index = range(len(df))\n",
    "    \n",
    "    return df\n",
    "\n",
    "def preprocessing(df):\n",
    "    new_title_list = []\n",
    "    new_source_list = []\n",
    "    for idx, row in df.iterrows():\n",
    "        title = row['Title']\n",
    "        link = row['Link']\n",
    "\n",
    "        source = row['Source']\n",
    "        source_link = row['SourceLink']\n",
    "\n",
    "        new_title = f\"\"\"<a href=\"{link}\">{title}</a>\"\"\"\n",
    "        new_source = f\"\"\"<a href=\"{source_link}\">{source}</a>\"\"\"\n",
    "\n",
    "        new_title_list.append(new_title)\n",
    "        new_source_list.append(new_source)\n",
    "\n",
    "    df['Title_Link'] = new_title_list\n",
    "    df['Source_Link'] = new_source_list\n",
    "\n",
    "    # 시점 계산\n",
    "    now = datetime.datetime.now()\n",
    "    df.loc[df['Times'].str.contains(\"일 전\"), 'Times_'] = df.loc[df['Times'].str.contains(\"일 전\")]['Times'].apply(lambda x: now-relativedelta(days=int(x.split(\"일\")[0])))\n",
    "    df.loc[df['Times'].str.contains(\"시간 전\"), 'Times_'] = df.loc[df['Times'].str.contains(\"시간 전\")]['Times'].apply(lambda x: now-relativedelta(hours=int(x.split(\"시간\")[0])))\n",
    "    df.loc[df['Times'].str.contains(\"분 전\"), 'Times_'] = df.loc[df['Times'].str.contains(\"분 전\")]['Times'].apply(lambda x: now-relativedelta(minutes=int(x.split(\"분\")[0])))\n",
    "    df.loc[df['Times'].str.contains(\"\\.\"), 'Times_'] = df.loc[df['Times'].str.contains(\"\\.\")]['Times'].apply(lambda x: datetime.datetime.strptime(x, \"%Y.%m.%d.\"))\n",
    "    df['Times_'] = pd.to_datetime(df['Times_']).apply(lambda x: datetime.datetime.strftime(x, \"%Y-%m-%d\"))\n",
    "\n",
    "    # 결과\n",
    "    df_cls = df[['Keyword','Title_Link','Times_','Source_Link']]\n",
    "    colDict = {\"Keyword\": \"주제\",\n",
    "               \"Title_Link\": \"제목\",\n",
    "               \"Times_\": \"날짜\",\n",
    "               \"Source_Link\": \"채널\"}\n",
    "    df_cls = df_cls.rename(columns=colDict)\n",
    "    return df_cls"
   ]
  },
  {
   "cell_type": "markdown",
   "metadata": {},
   "source": [
    "## Make Contents"
   ]
  },
  {
   "cell_type": "code",
   "execution_count": 4,
   "metadata": {
    "ExecuteTime": {
     "end_time": "2021-06-01T13:54:59.141675Z",
     "start_time": "2021-06-01T13:54:57.957054Z"
    }
   },
   "outputs": [],
   "source": [
    "# 검색 키워드\n",
    "search_word_list = ['스노우플레이크','팔란티어','테슬라','아메리칸워터웍스','로즈타운모터스','워크호스']\n",
    "# 정렬 기준 - 0: 관련도순, 1: 최신순, 2: 오래된순\n",
    "# 컨텐츠 생성\n",
    "df = make_contents(search_word_list, 1)\n",
    "# 전처리\n",
    "df_cls = preprocessing(df)\n",
    "# HTML로 변환하기\n",
    "html = df_to_html_table(df_cls)\n",
    "# HTML Contents\n",
    "contents = html.replace(\"&lt;\",\"<\").replace(\"&gt;\",\">\")"
   ]
  },
  {
   "cell_type": "markdown",
   "metadata": {},
   "source": [
    "## Setting"
   ]
  },
  {
   "cell_type": "code",
   "execution_count": 5,
   "metadata": {
    "ExecuteTime": {
     "end_time": "2021-06-01T13:54:59.157210Z",
     "start_time": "2021-06-01T13:54:59.143684Z"
    }
   },
   "outputs": [],
   "source": [
    "# 설정 파일 경로\n",
    "config_path = \"./config.ini\"\n",
    "\n",
    "# 설정 파일 읽기\n",
    "config = configparser.ConfigParser()\n",
    "config.read(config_path)\n",
    "\n",
    "# 이메일 계정 정보\n",
    "my_email_id = config['gmail']['id']\n",
    "my_email_pw = config['gmail']['pw']\n",
    "\n",
    "# SMTP 호스트 명\n",
    "smtp_host = 'smtp.gmail.com'\n",
    "smtp_port = 587\n",
    "\n",
    "# 타이틀 및 컨텐츠 작성\n",
    "date_str = datetime.datetime.strftime(datetime.datetime.now(),'%Y년 %m월 %d일')\n",
    "title = f\"\"\"[{date_str} 데일리 뉴스레터]\"\"\"\n",
    "contents=f'''{contents}'''\n",
    "\n",
    "# # 첨부파일 경로 설정\n",
    "# attachment_path = f\"D:/Task.txt\"\n",
    "\n",
    "# 수신자 정보 설정\n",
    "target_email_id = config['test']['id']\n",
    "\n",
    "# 문서 타입 설정 - plain, html 등\n",
    "subtype = 'html'"
   ]
  },
  {
   "cell_type": "markdown",
   "metadata": {},
   "source": [
    "## Sending"
   ]
  },
  {
   "cell_type": "code",
   "execution_count": 6,
   "metadata": {
    "ExecuteTime": {
     "end_time": "2021-06-01T13:55:02.084221Z",
     "start_time": "2021-06-01T13:54:59.158217Z"
    }
   },
   "outputs": [
    {
     "name": "stdout",
     "output_type": "stream",
     "text": [
      ">>> PyMail 초기화 성공\n",
      ">>> 메일 발송 성공\n"
     ]
    }
   ],
   "source": [
    "# 세션 설정\n",
    "PM = PyMail(my_email_id, my_email_pw, smtp_host, smtp_port)\n",
    "# 메일 발송\n",
    "# PM.send_mail(target_email_id, title, contents, subtype, attachment_path)\n",
    "PM.send_mail(target_email_id, title, contents, subtype)"
   ]
  }
 ],
 "metadata": {
  "hide_input": false,
  "kernelspec": {
   "display_name": "Python 3",
   "language": "python",
   "name": "python3"
  },
  "language_info": {
   "codemirror_mode": {
    "name": "ipython",
    "version": 3
   },
   "file_extension": ".py",
   "mimetype": "text/x-python",
   "name": "python",
   "nbconvert_exporter": "python",
   "pygments_lexer": "ipython3",
   "version": "3.8.5"
  },
  "toc": {
   "base_numbering": 1,
   "nav_menu": {},
   "number_sections": true,
   "sideBar": true,
   "skip_h1_title": false,
   "title_cell": "Table of Contents",
   "title_sidebar": "Contents",
   "toc_cell": false,
   "toc_position": {},
   "toc_section_display": true,
   "toc_window_display": false
  },
  "varInspector": {
   "cols": {
    "lenName": 16,
    "lenType": 16,
    "lenVar": 40
   },
   "kernels_config": {
    "python": {
     "delete_cmd_postfix": "",
     "delete_cmd_prefix": "del ",
     "library": "var_list.py",
     "varRefreshCmd": "print(var_dic_list())"
    },
    "r": {
     "delete_cmd_postfix": ") ",
     "delete_cmd_prefix": "rm(",
     "library": "var_list.r",
     "varRefreshCmd": "cat(var_dic_list()) "
    }
   },
   "types_to_exclude": [
    "module",
    "function",
    "builtin_function_or_method",
    "instance",
    "_Feature"
   ],
   "window_display": false
  }
 },
 "nbformat": 4,
 "nbformat_minor": 4
}
